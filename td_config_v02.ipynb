{
 "cells": [
  {
   "metadata": {},
   "cell_type": "code",
   "outputs": [],
   "execution_count": null,
   "source": "<img src=data:image/png;base64,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 width=\"450\">",
   "id": "46809a5b543dd7ec"
  },
  {
   "cell_type": "markdown",
   "id": "b77c5918",
   "metadata": {},
   "source": [
    "<div class=\"alert alert-block alert-info\">\n",
    "    <h1 style=\"font-size:40px;color:blue;\">Python M2 Banque Finance</h1>\n",
    "    <h1 style=\"font-size:40px;color:blue;\">Python M1 MBFA</h1>\n",
    "    <h1 style=\"font-size:30px;color:blue;\">TOML | YAML | JSON</h1>\n",
    "</div>"
   ]
  },
  {
   "cell_type": "markdown",
   "id": "3663bb9a",
   "metadata": {},
   "source": [
    "### configuration files: How to load and export information ?\n",
    "1. dict to toml\n",
    "2. dict to yaml\n",
    "3. dict to json\n",
    "4. toml to dict\n",
    "5. yaml to dict\n",
    "6. json to dict"
   ]
  },
  {
   "cell_type": "markdown",
   "id": "92fcc6e2",
   "metadata": {},
   "source": [
    "# Import\n",
    "-------------------------"
   ]
  },
  {
   "cell_type": "code",
   "id": "78090e93",
   "metadata": {
    "ExecuteTime": {
     "end_time": "2025-01-19T21:59:08.899086Z",
     "start_time": "2025-01-19T21:59:08.893586Z"
    }
   },
   "source": [
    "import json\n",
    "import os\n",
    "\n",
    "import toml\n",
    "import yaml"
   ],
   "outputs": [],
   "execution_count": 12
  },
  {
   "cell_type": "markdown",
   "id": "c93c2af3",
   "metadata": {},
   "source": [
    "# 1 data\n",
    "-------------------------"
   ]
  },
  {
   "cell_type": "code",
   "id": "575ae1ba",
   "metadata": {
    "ExecuteTime": {
     "end_time": "2025-01-19T21:59:08.934049Z",
     "start_time": "2025-01-19T21:59:08.929523Z"
    }
   },
   "source": [
    "# variables\n",
    "portfolio = {\"GE\": 0.5, \"JPM\": 0.2, \"MSFT\": 0.2, \"PG\": 0.1}\n",
    "field_to_keep = \"Adj Close\"\n",
    "begin_date = \"2015-01-02\"\n",
    "end_date = \"2018-03-27\"\n",
    "new_fields = [\"Date\", \"Ticker\", \"Value\"]"
   ],
   "outputs": [],
   "execution_count": 13
  },
  {
   "cell_type": "code",
   "id": "6b631476",
   "metadata": {
    "ExecuteTime": {
     "end_time": "2025-01-19T21:59:08.971932Z",
     "start_time": "2025-01-19T21:59:08.965920Z"
    }
   },
   "source": [
    "# dict\n",
    "config = {\n",
    "    \"portfolio\": {\"GE\": 0.5, \"JPM\": 0.2, \"MSFT\": 0.2, \"PG\": 0.1},\n",
    "    \"field_to_keep\": \"Adj Close\",\n",
    "    \"begin_date\": \"2015-01-02\",\n",
    "    \"end_date\": \"2018-03-27\",\n",
    "    \"new_fields\": [\"Date\", \"Ticker\", \"Value\"],\n",
    "}"
   ],
   "outputs": [],
   "execution_count": 14
  },
  {
   "cell_type": "code",
   "id": "d196a6fa",
   "metadata": {
    "ExecuteTime": {
     "end_time": "2025-01-19T21:59:08.989482Z",
     "start_time": "2025-01-19T21:59:08.984486Z"
    }
   },
   "source": [
    "directory = \"output\"\n",
    "toml_file = r\"output\\config.toml\"\n",
    "yaml_file = r\"output\\config.yaml\"\n",
    "json_file = r\"output\\config.json\""
   ],
   "outputs": [],
   "execution_count": 15
  },
  {
   "cell_type": "markdown",
   "id": "00398a72",
   "metadata": {},
   "source": [
    "# 2 dict to files\n",
    "-------------------------"
   ]
  },
  {
   "metadata": {
    "ExecuteTime": {
     "end_time": "2025-01-19T21:59:09.006182Z",
     "start_time": "2025-01-19T21:59:08.999376Z"
    }
   },
   "cell_type": "code",
   "source": "os.makedirs(\"output\", exist_ok=True)",
   "id": "9f3c61733a7c2a71",
   "outputs": [],
   "execution_count": 16
  },
  {
   "cell_type": "code",
   "id": "c156de2d",
   "metadata": {
    "ExecuteTime": {
     "end_time": "2025-01-19T21:59:09.024727Z",
     "start_time": "2025-01-19T21:59:09.017707Z"
    }
   },
   "source": [
    "with open(toml_file, \"w\") as file:\n",
    "    toml.dump(config, file)"
   ],
   "outputs": [],
   "execution_count": 17
  },
  {
   "cell_type": "code",
   "id": "44988824",
   "metadata": {
    "ExecuteTime": {
     "end_time": "2025-01-19T21:59:09.044398Z",
     "start_time": "2025-01-19T21:59:09.038005Z"
    }
   },
   "source": [
    "with open(yaml_file, \"w\") as file:\n",
    "    yaml.dump(config, file)"
   ],
   "outputs": [],
   "execution_count": 18
  },
  {
   "cell_type": "code",
   "id": "7def413a",
   "metadata": {
    "ExecuteTime": {
     "end_time": "2025-01-19T21:59:09.063856Z",
     "start_time": "2025-01-19T21:59:09.056796Z"
    }
   },
   "source": [
    "with open(json_file, \"w\") as file:\n",
    "    json.dump(config, file, indent=4)"
   ],
   "outputs": [],
   "execution_count": 19
  },
  {
   "cell_type": "markdown",
   "id": "c4b968bd",
   "metadata": {},
   "source": [
    "# 3 Files to dict\n",
    "-------------------------"
   ]
  },
  {
   "cell_type": "code",
   "id": "bfdc667b",
   "metadata": {
    "ExecuteTime": {
     "end_time": "2025-01-19T21:59:09.096401Z",
     "start_time": "2025-01-19T21:59:09.084448Z"
    }
   },
   "source": [
    "with open(toml_file, \"r\") as file:\n",
    "    print(toml.load(file))"
   ],
   "outputs": [
    {
     "name": "stdout",
     "output_type": "stream",
     "text": [
      "{'field_to_keep': 'Adj Close', 'begin_date': '2015-01-02', 'end_date': '2018-03-27', 'new_fields': ['Date', 'Ticker', 'Value'], 'portfolio': {'GE': 0.5, 'JPM': 0.2, 'MSFT': 0.2, 'PG': 0.1}}\n"
     ]
    }
   ],
   "execution_count": 20
  },
  {
   "cell_type": "code",
   "id": "9ff9a3fa",
   "metadata": {
    "ExecuteTime": {
     "end_time": "2025-01-19T21:59:09.133768Z",
     "start_time": "2025-01-19T21:59:09.125387Z"
    }
   },
   "source": [
    "with open(yaml_file, \"r\") as file:\n",
    "    print(yaml.safe_load(file))"
   ],
   "outputs": [
    {
     "name": "stdout",
     "output_type": "stream",
     "text": [
      "{'begin_date': '2015-01-02', 'end_date': '2018-03-27', 'field_to_keep': 'Adj Close', 'new_fields': ['Date', 'Ticker', 'Value'], 'portfolio': {'GE': 0.5, 'JPM': 0.2, 'MSFT': 0.2, 'PG': 0.1}}\n"
     ]
    }
   ],
   "execution_count": 21
  },
  {
   "cell_type": "code",
   "id": "ad49cee3",
   "metadata": {
    "ExecuteTime": {
     "end_time": "2025-01-19T21:59:09.148596Z",
     "start_time": "2025-01-19T21:59:09.140784Z"
    }
   },
   "source": [
    "with open(json_file, \"r\") as file:\n",
    "    print(json.load(file))"
   ],
   "outputs": [
    {
     "name": "stdout",
     "output_type": "stream",
     "text": [
      "{'portfolio': {'GE': 0.5, 'JPM': 0.2, 'MSFT': 0.2, 'PG': 0.1}, 'field_to_keep': 'Adj Close', 'begin_date': '2015-01-02', 'end_date': '2018-03-27', 'new_fields': ['Date', 'Ticker', 'Value']}\n"
     ]
    }
   ],
   "execution_count": 22
  },
  {
   "cell_type": "code",
   "id": "f799549e",
   "metadata": {
    "ExecuteTime": {
     "end_time": "2025-01-19T21:59:09.169710Z",
     "start_time": "2025-01-19T21:59:09.167704Z"
    }
   },
   "source": [],
   "outputs": [],
   "execution_count": null
  }
 ],
 "metadata": {
  "kernelspec": {
   "display_name": "Python 3 (ipykernel)",
   "language": "python",
   "name": "python3"
  },
  "language_info": {
   "codemirror_mode": {
    "name": "ipython",
    "version": 3
   },
   "file_extension": ".py",
   "mimetype": "text/x-python",
   "name": "python",
   "nbconvert_exporter": "python",
   "pygments_lexer": "ipython3",
   "version": "3.9.13"
  }
 },
 "nbformat": 4,
 "nbformat_minor": 5
}
